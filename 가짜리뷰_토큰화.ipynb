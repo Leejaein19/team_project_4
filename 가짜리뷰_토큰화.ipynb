{
 "cells": [
  {
   "cell_type": "markdown",
   "metadata": {
    "id": "VkVvollfdep1"
   },
   "source": [
    "## 필요한 라이브러리, 패키지 로드 "
   ]
  },
  {
   "cell_type": "code",
   "execution_count": 1,
   "metadata": {
    "id": "akp77mFucZD5"
   },
   "outputs": [],
   "source": [
    "import pandas as pd\n",
    "import seaborn as sns \n",
    "import re\n",
    "import numpy as np \n",
    "import io\n",
    "from tqdm import trange, tqdm\n",
    "from konlpy.tag import Okt\n",
    "import tensorflow\n",
    "okt=Okt()\n",
    "\n",
    "import warnings\n",
    "warnings.filterwarnings('ignore')"
   ]
  },
  {
   "cell_type": "code",
   "execution_count": 2,
   "metadata": {
    "id": "OQ5KxXuudYHY"
   },
   "outputs": [],
   "source": [
    "import tensorflow\n",
    "# import keras"
   ]
  },
  {
   "cell_type": "code",
   "execution_count": null,
   "metadata": {
    "colab": {
     "base_uri": "https://localhost:8080/"
    },
    "id": "Tci_XphYdnbC",
    "outputId": "e3924f8f-4cfc-46e7-9da8-b7ec22318c04"
   },
   "outputs": [],
   "source": [
    "!pip install konlpy\n",
    "from konlpy.tag import Okt\n"
   ]
  },
  {
   "cell_type": "code",
   "execution_count": null,
   "metadata": {
    "id": "h-ygrwgZeFI-"
   },
   "outputs": [],
   "source": []
  },
  {
   "cell_type": "code",
   "execution_count": 3,
   "metadata": {
    "id": "4UBIc8CEeonA"
   },
   "outputs": [],
   "source": [
    "from tensorflow.keras.preprocessing.text import Tokenizer"
   ]
  },
  {
   "cell_type": "markdown",
   "metadata": {
    "id": "IWPMngZ2es07"
   },
   "source": [
    "## 파일 불러오기 ( fake_movies ) "
   ]
  },
  {
   "cell_type": "code",
   "execution_count": null,
   "metadata": {
    "colab": {
     "base_uri": "https://localhost:8080/",
     "height": 77,
     "resources": {
      "http://localhost:8080/nbextensions/google.colab/files.js": {
       "data": "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",
       "headers": [
        [
         "content-type",
         "application/javascript"
        ]
       ],
       "ok": true,
       "status": 200,
       "status_text": ""
      }
     }
    },
    "id": "1jP44dtfjPAF",
    "outputId": "b51f5073-bddb-4711-f4a7-aabbce875c6e"
   },
   "outputs": [],
   "source": [
    "from google.colab import files\n",
    "myfile = files.upload()"
   ]
  },
  {
   "cell_type": "code",
   "execution_count": null,
   "metadata": {
    "colab": {
     "base_uri": "https://localhost:8080/"
    },
    "id": "9l5agsu-j8ME",
    "outputId": "36c493c9-1e7c-4dab-944a-244866e2bcbc"
   },
   "outputs": [],
   "source": [
    "from google.colab import drive\n",
    "drive.mount('/content/gdrive')"
   ]
  },
  {
   "cell_type": "code",
   "execution_count": null,
   "metadata": {
    "id": "O_8L0sFGkKkp"
   },
   "outputs": [],
   "source": [
    "df1 = pd.read_csv('./div_movies_1.csv', encoding='utf-8')\n",
    "df2 = pd.read_csv('./div_movies_2.csv', encoding='utf-8')\n",
    "df3 = pd.read_csv('./div_movies_3.csv', encoding='utf-8')"
   ]
  },
  {
   "cell_type": "code",
   "execution_count": null,
   "metadata": {},
   "outputs": [],
   "source": [
    "df = pd.concat([df1,df2,df3], ignore_index=True)\n",
    "df.drop(columns='origin_index', inplace=True)\n",
    "df"
   ]
  },
  {
   "cell_type": "code",
   "execution_count": null,
   "metadata": {
    "colab": {
     "base_uri": "https://localhost:8080/"
    },
    "id": "wLDNVbr_l4Tj",
    "outputId": "85880b18-cf1f-451d-9fb3-c9e37432c66b"
   },
   "outputs": [],
   "source": [
    "df.isnull().sum()"
   ]
  },
  {
   "cell_type": "markdown",
   "metadata": {
    "id": "dUpsQNt6mWFJ"
   },
   "source": [
    "# 데이터 전처리 (fake_movies)"
   ]
  },
  {
   "cell_type": "markdown",
   "metadata": {
    "id": "YsdA28dMmd9f"
   },
   "source": [
    "## 정규표현식 이용해서 한글만 남기기, 정제 "
   ]
  },
  {
   "cell_type": "markdown",
   "metadata": {
    "id": "fteCeH-onEGc"
   },
   "source": [
    "결측행(np.nan) 없는 것 확인, 댓글이 '' 인 것 확인완료, 그러나 이 밑 작업 후 ''인 것 생길 것 -> 먼저 없애주고, 토큰화 진행할 것!"
   ]
  },
  {
   "cell_type": "code",
   "execution_count": 6,
   "metadata": {
    "id": "zO9Yjn_am0Be"
   },
   "outputs": [],
   "source": [
    "df['댓글']=df['댓글'].str.replace('[^ㄱ-ㅎ ㅏ-ㅣ 가-힣]','') # 한글만 남기기\n",
    "#df2['댓글']=df2['댓글'].str.replace('[^ㄱ-ㅎ ㅏ-ㅣ 가-힣]','') # 한글만 남기기\n",
    "#df3['댓글']=df3['댓글'].str.replace('[^ㄱ-ㅎ ㅏ-ㅣ 가-힣]','') # 한글만 남기기"
   ]
  },
  {
   "cell_type": "code",
   "execution_count": null,
   "metadata": {
    "colab": {
     "base_uri": "https://localhost:8080/"
    },
    "id": "C5s65eb5kUId",
    "outputId": "744ed589-f9d0-44cc-87ff-2479b4d695fd"
   },
   "outputs": [],
   "source": [
    "from soynlp.normalizer import *"
   ]
  },
  {
   "cell_type": "code",
   "execution_count": 14,
   "metadata": {
    "id": "ckmOUkSupu-U"
   },
   "outputs": [
    {
     "ename": "TypeError",
     "evalue": "'float' object is not iterable",
     "output_type": "error",
     "traceback": [
      "\u001b[1;31m---------------------------------------------------------------------------\u001b[0m",
      "\u001b[1;31mTypeError\u001b[0m                                 Traceback (most recent call last)",
      "\u001b[1;32m<ipython-input-14-0d7a90d8fd21>\u001b[0m in \u001b[0;36m<module>\u001b[1;34m\u001b[0m\n\u001b[0;32m      2\u001b[0m \u001b[1;33m\u001b[0m\u001b[0m\n\u001b[0;32m      3\u001b[0m \u001b[1;32mfor\u001b[0m \u001b[0mstem\u001b[0m \u001b[1;32min\u001b[0m \u001b[0mdf\u001b[0m\u001b[1;33m[\u001b[0m\u001b[1;34m'댓글'\u001b[0m\u001b[1;33m]\u001b[0m\u001b[1;33m:\u001b[0m\u001b[1;33m\u001b[0m\u001b[1;33m\u001b[0m\u001b[0m\n\u001b[1;32m----> 4\u001b[1;33m     \u001b[0mtemp1\u001b[0m\u001b[1;33m=\u001b[0m\u001b[0memoticon_normalize\u001b[0m\u001b[1;33m(\u001b[0m\u001b[0mstem\u001b[0m\u001b[1;33m,\u001b[0m\u001b[0mnum_repeats\u001b[0m\u001b[1;33m=\u001b[0m\u001b[1;36m2\u001b[0m\u001b[1;33m)\u001b[0m\u001b[1;33m\u001b[0m\u001b[1;33m\u001b[0m\u001b[0m\n\u001b[0m\u001b[0;32m      5\u001b[0m     \u001b[0mstem_reviews\u001b[0m\u001b[1;33m.\u001b[0m\u001b[0mappend\u001b[0m\u001b[1;33m(\u001b[0m\u001b[0mtemp1\u001b[0m\u001b[1;33m)\u001b[0m\u001b[1;33m\u001b[0m\u001b[1;33m\u001b[0m\u001b[0m\n\u001b[0;32m      6\u001b[0m \u001b[1;33m\u001b[0m\u001b[0m\n",
      "\u001b[1;32m~\\anaconda3\\lib\\site-packages\\soynlp\\normalizer\\_normalizer.py\u001b[0m in \u001b[0;36memoticon_normalize\u001b[1;34m(sent, num_repeats)\u001b[0m\n\u001b[0;32m     62\u001b[0m             \u001b[1;32mreturn\u001b[0m \u001b[1;33m-\u001b[0m\u001b[1;36m1\u001b[0m\u001b[1;33m\u001b[0m\u001b[1;33m\u001b[0m\u001b[0m\n\u001b[0;32m     63\u001b[0m \u001b[1;33m\u001b[0m\u001b[0m\n\u001b[1;32m---> 64\u001b[1;33m     \u001b[0midxs\u001b[0m \u001b[1;33m=\u001b[0m \u001b[1;33m[\u001b[0m\u001b[0mpattern\u001b[0m\u001b[1;33m(\u001b[0m\u001b[0mord\u001b[0m\u001b[1;33m(\u001b[0m\u001b[0mc\u001b[0m\u001b[1;33m)\u001b[0m\u001b[1;33m)\u001b[0m \u001b[1;32mfor\u001b[0m \u001b[0mc\u001b[0m \u001b[1;32min\u001b[0m \u001b[0msent\u001b[0m\u001b[1;33m]\u001b[0m\u001b[1;33m\u001b[0m\u001b[1;33m\u001b[0m\u001b[0m\n\u001b[0m\u001b[0;32m     65\u001b[0m     \u001b[0msent_\u001b[0m \u001b[1;33m=\u001b[0m \u001b[1;33m[\u001b[0m\u001b[1;33m]\u001b[0m\u001b[1;33m\u001b[0m\u001b[1;33m\u001b[0m\u001b[0m\n\u001b[0;32m     66\u001b[0m     \u001b[0mlast_idx\u001b[0m \u001b[1;33m=\u001b[0m \u001b[0mlen\u001b[0m\u001b[1;33m(\u001b[0m\u001b[0midxs\u001b[0m\u001b[1;33m)\u001b[0m \u001b[1;33m-\u001b[0m \u001b[1;36m1\u001b[0m\u001b[1;33m\u001b[0m\u001b[1;33m\u001b[0m\u001b[0m\n",
      "\u001b[1;31mTypeError\u001b[0m: 'float' object is not iterable"
     ]
    }
   ],
   "source": [
    "stem_reviews=[] #반복되는 'ㅋㅋㅋ'같은애들 정제해주기 \n",
    "\n",
    "for stem in df['댓글']:\n",
    "    temp1=emoticon_normalize(stem,num_repeats=2)\n",
    "    stem_reviews.append(temp1)\n",
    "    "
   ]
  },
  {
   "cell_type": "code",
   "execution_count": null,
   "metadata": {
    "id": "cSgEaDHKq2HE"
   },
   "outputs": [],
   "source": [
    "df['댓글']=stem_reviews #정제해준 애들 컬럼값으로 할당"
   ]
  },
  {
   "cell_type": "markdown",
   "metadata": {
    "id": "ow_T2QmmkwD8"
   },
   "source": [
    "## 불용어처리 & 단어토큰화 (fake_tokens)"
   ]
  },
  {
   "cell_type": "code",
   "execution_count": null,
   "metadata": {
    "id": "YLWA2-s0moxl"
   },
   "outputs": [],
   "source": [
    "stop_words = ['지', '임', '게', '하', '고', '을', '인', '듯', '의', '가', '이',\n",
    "             '은', '들', '는', '좀', '잘', '걍', '과', '와', '도', '를',\n",
    "             '으로', '나','자', '에', '와', '네', '한', '하다', '았', '앗', '엇',\n",
    "             '주', '되', '다', '따', '영','이', '걸', '만','즐','엔', '임', '후',\n",
    "             '왠', '만','할','로','펌','무','적','원','치', '류','옆','타','함','구',\n",
    "             '호','수','못','랑','요','씨','보고','대','됨','번','테','력','박','습',\n",
    "             '라','데','옴','오','기','줌','않','함','그','거','로','도','은','는','들','에서','와','과','두','야']"
   ]
  },
  {
   "cell_type": "code",
   "execution_count": 10,
   "metadata": {
    "id": "HufYzCKmFXKA"
   },
   "outputs": [],
   "source": [
    "# 이 타이밍에 정규표현식으로 인해 빈칸이 된 애들을 지워줍니다 !! \n",
    "\n",
    "index1=df[df['댓글']==''].index\n",
    "df=df.drop(index1)"
   ]
  },
  {
   "cell_type": "code",
   "execution_count": 12,
   "metadata": {
    "id": "sjl0_a2TSKIB"
   },
   "outputs": [],
   "source": [
    "df=df.reset_index()\n",
    "# 여기서 인덱스 리셋을 안해주니깐 밑에 포문에서 오류가 남"
   ]
  },
  {
   "cell_type": "code",
   "execution_count": null,
   "metadata": {
    "colab": {
     "base_uri": "https://localhost:8080/"
    },
    "id": "kP2VY_I_OUYn",
    "outputId": "d33ceebb-bce7-4822-dbc8-3cb37749fcaa"
   },
   "outputs": [],
   "source": [
    "# 이 타이밍에는, 불용어만 작성해서 이로 인해 빈칸이 될 애들을 미리 지워줍니다! \n",
    "\n",
    "for i in trange(len(df)):\n",
    "    if df['댓글'][i] in stop_words:\n",
    "        df=df.drop(i)\n",
    "    else: continue\n",
    "\n",
    "df=df.reset_index() #여기도 똑같이 오류 방지 "
   ]
  },
  {
   "cell_type": "code",
   "execution_count": null,
   "metadata": {
    "id": "Nb0LWgDgxMdW"
   },
   "outputs": [],
   "source": [
    "review_tokens = []\n",
    "for sent in df['댓글']:\n",
    "    word_tokens = okt.morphs(sent) # 토큰화\n",
    "    word_tokens = [word for word in word_tokens if not word in stop_words]\n",
    "    review_tokens.append(word_tokens)  # 불용어 제거"
   ]
  },
  {
   "cell_type": "code",
   "execution_count": null,
   "metadata": {
    "colab": {
     "base_uri": "https://localhost:8080/"
    },
    "id": "Mv3PMVBhCMJp",
    "outputId": "97101909-980e-4ce8-8636-5233746c6fb1"
   },
   "outputs": [],
   "source": [
    "review_tokens"
   ]
  },
  {
   "cell_type": "markdown",
   "metadata": {
    "id": "rSlxl6PWdrpB"
   },
   "source": [
    "## 추가작업 & 확인 및 저장\n",
    "여러 컬럼들을 비교하는 그래프를 그려보면서 데이터의 특징들을 찾아본다"
   ]
  },
  {
   "cell_type": "code",
   "execution_count": 40,
   "metadata": {},
   "outputs": [],
   "source": [
    "import seaborn as sns\n",
    "import matplotlib.pyplot as plt\n",
    "plt.rcParams['font.size'] = 15\n",
    "plt.rcParams['font.family'] = 'NanumGothicCoding' \n",
    "import matplotlib as mpl\n",
    "mpl.rcParams['axes.unicode_minus'] = False\n"
   ]
  },
  {
   "cell_type": "code",
   "execution_count": 161,
   "metadata": {},
   "outputs": [
    {
     "data": {
      "text/plain": [
       "<AxesSubplot:xlabel='날짜차이', ylabel='댓글길이'>"
      ]
     },
     "execution_count": 161,
     "metadata": {},
     "output_type": "execute_result"
    },
    {
     "data": {
      "image/png": "[encoded data removed]",
      "text/plain": [
       "<Figure size 1152x720 with 1 Axes>"
      ]
     },
     "metadata": {
      "needs_background": "light"
     },
     "output_type": "display_data"
    }
   ],
   "source": [
    "plt.figure(figsize=(16, 10))\n",
    "sns.boxplot(data=df, x=df['날짜차이'] , y=df['댓글길이'])"
   ]
  },
  {
   "cell_type": "code",
   "execution_count": 148,
   "metadata": {},
   "outputs": [
    {
     "data": {
      "text/plain": [
       "관람여부\n",
       "0    40.789202\n",
       "1    29.594445\n",
       "Name: 댓글길이, dtype: float64"
      ]
     },
     "execution_count": 148,
     "metadata": {},
     "output_type": "execute_result"
    }
   ],
   "source": [
    "df.groupby(by=['관람여부'])['댓글길이'].mean()"
   ]
  },
  {
   "cell_type": "code",
   "execution_count": 157,
   "metadata": {},
   "outputs": [],
   "source": [
    "df['댓글길이']=df['댓글'].str.len()"
   ]
  },
  {
   "cell_type": "code",
   "execution_count": 160,
   "metadata": {},
   "outputs": [],
   "source": [
    "df['댓글길이'].fillna(0, inplace=True)"
   ]
  },
  {
   "cell_type": "code",
   "execution_count": 154,
   "metadata": {},
   "outputs": [
    {
     "data": {
      "text/html": [
       "<div>\n",
       "<style scoped>\n",
       "    .dataframe tbody tr th:only-of-type {\n",
       "        vertical-align: middle;\n",
       "    }\n",
       "\n",
       "    .dataframe tbody tr th {\n",
       "        vertical-align: top;\n",
       "    }\n",
       "\n",
       "    .dataframe thead th {\n",
       "        text-align: right;\n",
       "    }\n",
       "</style>\n",
       "<table border=\"1\" class=\"dataframe\">\n",
       "  <thead>\n",
       "    <tr style=\"text-align: right;\">\n",
       "      <th></th>\n",
       "      <th>영화이름</th>\n",
       "      <th>개봉일</th>\n",
       "      <th>댓글번호</th>\n",
       "      <th>작성일자</th>\n",
       "      <th>댓글</th>\n",
       "      <th>평점</th>\n",
       "      <th>관람여부</th>\n",
       "      <th>스포여부</th>\n",
       "      <th>공감수</th>\n",
       "      <th>비공감수</th>\n",
       "      <th>공감차이</th>\n",
       "      <th>날짜차이</th>\n",
       "      <th>유저ID</th>\n",
       "      <th>영화코드</th>\n",
       "    </tr>\n",
       "  </thead>\n",
       "  <tbody>\n",
       "    <tr>\n",
       "      <th>575</th>\n",
       "      <td>분노의_질주_언리미티드</td>\n",
       "      <td>2011-04-20 00:00:00</td>\n",
       "      <td>5489026</td>\n",
       "      <td>2011-06-19 17:14:00</td>\n",
       "      <td>매잼매잼</td>\n",
       "      <td>10</td>\n",
       "      <td>0</td>\n",
       "      <td>0</td>\n",
       "      <td>0</td>\n",
       "      <td>0</td>\n",
       "      <td>0</td>\n",
       "      <td>60</td>\n",
       "      <td>jinb****</td>\n",
       "      <td>74632</td>\n",
       "    </tr>\n",
       "    <tr>\n",
       "      <th>576</th>\n",
       "      <td>분노의_질주_언리미티드</td>\n",
       "      <td>2011-04-20 00:00:00</td>\n",
       "      <td>5482726</td>\n",
       "      <td>2011-06-15 19:39:00</td>\n",
       "      <td>액션이 정말 시원시원 하다</td>\n",
       "      <td>10</td>\n",
       "      <td>0</td>\n",
       "      <td>0</td>\n",
       "      <td>0</td>\n",
       "      <td>0</td>\n",
       "      <td>0</td>\n",
       "      <td>56</td>\n",
       "      <td>mook****</td>\n",
       "      <td>74632</td>\n",
       "    </tr>\n",
       "    <tr>\n",
       "      <th>577</th>\n",
       "      <td>분노의_질주_언리미티드</td>\n",
       "      <td>2011-04-20 00:00:00</td>\n",
       "      <td>5482458</td>\n",
       "      <td>2011-06-15 15:58:00</td>\n",
       "      <td>액션장면은 몰입도 최고</td>\n",
       "      <td>9</td>\n",
       "      <td>0</td>\n",
       "      <td>0</td>\n",
       "      <td>0</td>\n",
       "      <td>0</td>\n",
       "      <td>0</td>\n",
       "      <td>56</td>\n",
       "      <td>seip****</td>\n",
       "      <td>74632</td>\n",
       "    </tr>\n",
       "    <tr>\n",
       "      <th>578</th>\n",
       "      <td>분노의_질주_언리미티드</td>\n",
       "      <td>2011-04-20 00:00:00</td>\n",
       "      <td>5481782</td>\n",
       "      <td>2011-06-15 00:03:00</td>\n",
       "      <td>내생에 최고에 영화다 --; 극장에서 봤는데... 후반부엔 정말 할말없다.. 쩐다..;</td>\n",
       "      <td>10</td>\n",
       "      <td>0</td>\n",
       "      <td>0</td>\n",
       "      <td>0</td>\n",
       "      <td>0</td>\n",
       "      <td>0</td>\n",
       "      <td>56</td>\n",
       "      <td>ysms****</td>\n",
       "      <td>74632</td>\n",
       "    </tr>\n",
       "    <tr>\n",
       "      <th>579</th>\n",
       "      <td>분노의_질주_언리미티드</td>\n",
       "      <td>2011-04-20 00:00:00</td>\n",
       "      <td>5480391</td>\n",
       "      <td>2011-06-13 22:38:00</td>\n",
       "      <td>스토리는 별론데 액션이 최고임</td>\n",
       "      <td>10</td>\n",
       "      <td>0</td>\n",
       "      <td>0</td>\n",
       "      <td>0</td>\n",
       "      <td>0</td>\n",
       "      <td>0</td>\n",
       "      <td>54</td>\n",
       "      <td>pese****</td>\n",
       "      <td>74632</td>\n",
       "    </tr>\n",
       "    <tr>\n",
       "      <th>...</th>\n",
       "      <td>...</td>\n",
       "      <td>...</td>\n",
       "      <td>...</td>\n",
       "      <td>...</td>\n",
       "      <td>...</td>\n",
       "      <td>...</td>\n",
       "      <td>...</td>\n",
       "      <td>...</td>\n",
       "      <td>...</td>\n",
       "      <td>...</td>\n",
       "      <td>...</td>\n",
       "      <td>...</td>\n",
       "      <td>...</td>\n",
       "      <td>...</td>\n",
       "    </tr>\n",
       "    <tr>\n",
       "      <th>2488717</th>\n",
       "      <td>관상</td>\n",
       "      <td>2013-09-11 00:00:00</td>\n",
       "      <td>7966234</td>\n",
       "      <td>2013-09-11 16:09:00</td>\n",
       "      <td>사극 별로안좋아하는데. 시간 가는지 모르게 잼나게 잘봤어요.  송강호 연기 잘하고 ...</td>\n",
       "      <td>10</td>\n",
       "      <td>0</td>\n",
       "      <td>0</td>\n",
       "      <td>2</td>\n",
       "      <td>4</td>\n",
       "      <td>-2</td>\n",
       "      <td>0</td>\n",
       "      <td>혁프린스(anth****)</td>\n",
       "      <td>93728</td>\n",
       "    </tr>\n",
       "    <tr>\n",
       "      <th>2488718</th>\n",
       "      <td>관상</td>\n",
       "      <td>2013-09-11 00:00:00</td>\n",
       "      <td>7966139</td>\n",
       "      <td>2013-09-11 15:28:00</td>\n",
       "      <td>음 일단 기대 너무하진 말고 보시길.. 워낙 기대가 큰 작품이라.. 너무길어서 다소...</td>\n",
       "      <td>8</td>\n",
       "      <td>0</td>\n",
       "      <td>0</td>\n",
       "      <td>2</td>\n",
       "      <td>4</td>\n",
       "      <td>-2</td>\n",
       "      <td>0</td>\n",
       "      <td>시잉시잉(zzan****)</td>\n",
       "      <td>93728</td>\n",
       "    </tr>\n",
       "    <tr>\n",
       "      <th>2488719</th>\n",
       "      <td>관상</td>\n",
       "      <td>2013-09-11 00:00:00</td>\n",
       "      <td>7966049</td>\n",
       "      <td>2013-09-11 14:45:00</td>\n",
       "      <td>송강호 연기 쩔고 조정석과 호흡 좋음. 그러나 늘어지는 전개, 수양대군이 아닌 수양...</td>\n",
       "      <td>7</td>\n",
       "      <td>0</td>\n",
       "      <td>0</td>\n",
       "      <td>2</td>\n",
       "      <td>4</td>\n",
       "      <td>-2</td>\n",
       "      <td>0</td>\n",
       "      <td>하나의벗(laze****)</td>\n",
       "      <td>93728</td>\n",
       "    </tr>\n",
       "    <tr>\n",
       "      <th>2488720</th>\n",
       "      <td>관상</td>\n",
       "      <td>2013-09-11 00:00:00</td>\n",
       "      <td>7966027</td>\n",
       "      <td>2013-09-11 14:36:00</td>\n",
       "      <td>배우들 연기 잊을수가 없다,,, 최고의 걸작!</td>\n",
       "      <td>10</td>\n",
       "      <td>0</td>\n",
       "      <td>0</td>\n",
       "      <td>2</td>\n",
       "      <td>4</td>\n",
       "      <td>-2</td>\n",
       "      <td>0</td>\n",
       "      <td>jena****</td>\n",
       "      <td>93728</td>\n",
       "    </tr>\n",
       "    <tr>\n",
       "      <th>2488721</th>\n",
       "      <td>관상</td>\n",
       "      <td>2013-09-11 00:00:00</td>\n",
       "      <td>7966023</td>\n",
       "      <td>2013-09-11 14:35:00</td>\n",
       "      <td>스토리 짜임새나 관상을 통한 복선 등이 꽤 탄탄했다고 생각함. 억지 웃음이나 억지감...</td>\n",
       "      <td>9</td>\n",
       "      <td>0</td>\n",
       "      <td>0</td>\n",
       "      <td>2</td>\n",
       "      <td>4</td>\n",
       "      <td>-2</td>\n",
       "      <td>0</td>\n",
       "      <td>군기반장(dlsg****)</td>\n",
       "      <td>93728</td>\n",
       "    </tr>\n",
       "  </tbody>\n",
       "</table>\n",
       "<p>1944648 rows × 14 columns</p>\n",
       "</div>"
      ],
      "text/plain": [
       "                 영화이름                  개봉일     댓글번호                 작성일자  \\\n",
       "575      분노의_질주_언리미티드  2011-04-20 00:00:00  5489026  2011-06-19 17:14:00   \n",
       "576      분노의_질주_언리미티드  2011-04-20 00:00:00  5482726  2011-06-15 19:39:00   \n",
       "577      분노의_질주_언리미티드  2011-04-20 00:00:00  5482458  2011-06-15 15:58:00   \n",
       "578      분노의_질주_언리미티드  2011-04-20 00:00:00  5481782  2011-06-15 00:03:00   \n",
       "579      분노의_질주_언리미티드  2011-04-20 00:00:00  5480391  2011-06-13 22:38:00   \n",
       "...               ...                  ...      ...                  ...   \n",
       "2488717            관상  2013-09-11 00:00:00  7966234  2013-09-11 16:09:00   \n",
       "2488718            관상  2013-09-11 00:00:00  7966139  2013-09-11 15:28:00   \n",
       "2488719            관상  2013-09-11 00:00:00  7966049  2013-09-11 14:45:00   \n",
       "2488720            관상  2013-09-11 00:00:00  7966027  2013-09-11 14:36:00   \n",
       "2488721            관상  2013-09-11 00:00:00  7966023  2013-09-11 14:35:00   \n",
       "\n",
       "                                                        댓글  평점  관람여부  스포여부  \\\n",
       "575                                                   매잼매잼  10     0     0   \n",
       "576                                         액션이 정말 시원시원 하다  10     0     0   \n",
       "577                                           액션장면은 몰입도 최고   9     0     0   \n",
       "578       내생에 최고에 영화다 --; 극장에서 봤는데... 후반부엔 정말 할말없다.. 쩐다..;  10     0     0   \n",
       "579                                       스토리는 별론데 액션이 최고임  10     0     0   \n",
       "...                                                    ...  ..   ...   ...   \n",
       "2488717  사극 별로안좋아하는데. 시간 가는지 모르게 잼나게 잘봤어요.  송강호 연기 잘하고 ...  10     0     0   \n",
       "2488718  음 일단 기대 너무하진 말고 보시길.. 워낙 기대가 큰 작품이라.. 너무길어서 다소...   8     0     0   \n",
       "2488719  송강호 연기 쩔고 조정석과 호흡 좋음. 그러나 늘어지는 전개, 수양대군이 아닌 수양...   7     0     0   \n",
       "2488720                          배우들 연기 잊을수가 없다,,, 최고의 걸작!  10     0     0   \n",
       "2488721  스토리 짜임새나 관상을 통한 복선 등이 꽤 탄탄했다고 생각함. 억지 웃음이나 억지감...   9     0     0   \n",
       "\n",
       "         공감수  비공감수  공감차이  날짜차이            유저ID   영화코드  \n",
       "575        0     0     0    60        jinb****  74632  \n",
       "576        0     0     0    56        mook****  74632  \n",
       "577        0     0     0    56        seip****  74632  \n",
       "578        0     0     0    56        ysms****  74632  \n",
       "579        0     0     0    54        pese****  74632  \n",
       "...      ...   ...   ...   ...             ...    ...  \n",
       "2488717    2     4    -2     0  혁프린스(anth****)  93728  \n",
       "2488718    2     4    -2     0  시잉시잉(zzan****)  93728  \n",
       "2488719    2     4    -2     0  하나의벗(laze****)  93728  \n",
       "2488720    2     4    -2     0        jena****  93728  \n",
       "2488721    2     4    -2     0  군기반장(dlsg****)  93728  \n",
       "\n",
       "[1944648 rows x 14 columns]"
      ]
     },
     "execution_count": 154,
     "metadata": {},
     "output_type": "execute_result"
    }
   ],
   "source": [
    "df.drop(df[(df['날짜차이'] < -7) | (df['날짜차이'] > 60)].index, inplace=True)\n",
    "df"
   ]
  },
  {
   "cell_type": "markdown",
   "metadata": {
    "colab": {
     "base_uri": "https://localhost:8080/",
     "height": 50
    },
    "id": "yFHvA79JJXKq",
    "outputId": "022c3e62-6537-42d8-8792-c8c9b9b203ec"
   },
   "source": [
    "## 피클 저장\n",
    "데이터가 너무 많아 로딩이 길고, 날짜 타입 경우 csv로 저장했다 불러올경우 자료형이 바뀌는 문제를 해결"
   ]
  },
  {
   "cell_type": "code",
   "execution_count": null,
   "metadata": {
    "id": "d-bQ9FJNzj-3"
   },
   "outputs": [],
   "source": [
    "import pickle"
   ]
  },
  {
   "cell_type": "code",
   "execution_count": null,
   "metadata": {
    "id": "GTiO0rIStKoR"
   },
   "outputs": [],
   "source": [
    "with open(\"movie2_tokens.pickle\",\"wb\") as f:\n",
    "    pickle.dump(fake_tokens, f)"
   ]
  },
  {
   "cell_type": "code",
   "execution_count": null,
   "metadata": {
    "id": "eEO632UUzixW"
   },
   "outputs": [],
   "source": [
    "with open(\"movie2_tokens.pickle\",\"rb\") as f:\n",
    "    try_pickle = pickle.load(f)"
   ]
  },
  {
   "cell_type": "code",
   "execution_count": null,
   "metadata": {
    "colab": {
     "base_uri": "https://localhost:8080/"
    },
    "id": "YD3Yz9hNz-Fm",
    "outputId": "03ff8c16-a7a3-4793-dde7-73369bf8fcf8"
   },
   "outputs": [],
   "source": [
    "print(len(try_pickle))\n",
    "print(len(fake_tokens))"
   ]
  },
  {
   "cell_type": "code",
   "execution_count": null,
   "metadata": {
    "id": "xKXpdl1UUozV"
   },
   "outputs": [],
   "source": []
  }
 ],
 "metadata": {
  "colab": {
   "collapsed_sections": [],
   "name": "가짜리뷰_토큰화.ipynb",
   "provenance": []
  },
  "kernelspec": {
   "display_name": "Python 3",
   "language": "python",
   "name": "python3"
  },
  "language_info": {
   "codemirror_mode": {
    "name": "ipython",
    "version": 3
   },
   "file_extension": ".py",
   "mimetype": "text/x-python",
   "name": "python",
   "nbconvert_exporter": "python",
   "pygments_lexer": "ipython3",
   "version": "3.8.8"
  },
  "toc": {
   "base_numbering": 1,
   "nav_menu": {},
   "number_sections": false,
   "sideBar": true,
   "skip_h1_title": false,
   "title_cell": "Table of Contents",
   "title_sidebar": "Contents",
   "toc_cell": false,
   "toc_position": {},
   "toc_section_display": true,
   "toc_window_display": false
  }
 },
 "nbformat": 4,
 "nbformat_minor": 1
}
