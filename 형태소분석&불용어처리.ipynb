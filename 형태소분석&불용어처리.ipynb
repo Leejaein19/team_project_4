{
 "cells": [
  {
   "cell_type": "code",
   "execution_count": 116,
   "id": "9ceb8383",
   "metadata": {},
   "outputs": [],
   "source": [
    "import pandas as pd\n",
    "import numpy as np\n",
    "from konlpy.tag import *\n",
    "import re\n",
    "from pykospacing import Spacing\n",
    "from tqdm.notebook import trange, tqdm\n",
    "\n",
    "mecab = Mecab()\n",
    "okt = Okt()\n",
    "spacing = Spacing()"
   ]
  },
  {
   "cell_type": "code",
   "execution_count": 132,
   "id": "d68c4af5",
   "metadata": {},
   "outputs": [],
   "source": [
    "df_comedy = pd.read_csv('./comedy.csv', encoding='cp949')\n",
    "df_fantasy = pd.read_csv('./fantasy.csv', encoding='cp949')\n",
    "df_2010_15 = pd.read_csv('./year10_15.csv', encoding='cp949')"
   ]
  },
  {
   "cell_type": "code",
   "execution_count": 133,
   "id": "2333e9d6",
   "metadata": {},
   "outputs": [
    {
     "name": "stderr",
     "output_type": "stream",
     "text": [
      "<ipython-input-133-6224efaabdfc>:1: FutureWarning: The default value of regex will change from True to False in a future version.\n",
      "  df_comedy['댓글'] = df_comedy['댓글'].str.replace('[^ㄱ-ㅎ ㅏ-ㅣ 가-힣]','')\n",
      "<ipython-input-133-6224efaabdfc>:2: FutureWarning: The default value of regex will change from True to False in a future version.\n",
      "  df_fantasy['댓글'] = df_fantasy['댓글'].str.replace('[^ㄱ-ㅎ ㅏ-ㅣ 가-힣]','')\n",
      "<ipython-input-133-6224efaabdfc>:3: FutureWarning: The default value of regex will change from True to False in a future version.\n",
      "  df_2010_15['댓글'] = df_2010_15['댓글'].str.replace('[^ㄱ-ㅎ ㅏ-ㅣ 가-힣]','')\n"
     ]
    }
   ],
   "source": [
    "df_comedy['댓글'] = df_comedy['댓글'].str.replace('[^ㄱ-ㅎ ㅏ-ㅣ 가-힣]','')\n",
    "df_fantasy['댓글'] = df_fantasy['댓글'].str.replace('[^ㄱ-ㅎ ㅏ-ㅣ 가-힣]','')\n",
    "df_2010_15['댓글'] = df_2010_15['댓글'].str.replace('[^ㄱ-ㅎ ㅏ-ㅣ 가-힣]','')"
   ]
  },
  {
   "cell_type": "code",
   "execution_count": 140,
   "id": "9b5f9453",
   "metadata": {},
   "outputs": [
    {
     "name": "stdout",
     "output_type": "stream",
     "text": [
      "0\n",
      "0\n",
      "0\n"
     ]
    }
   ],
   "source": [
    "print(df_comedy['댓글'].isna().sum())\n",
    "print(df_fantasy['댓글'].isna().sum())\n",
    "print(df_2010_15['댓글'].isna().sum())"
   ]
  },
  {
   "cell_type": "code",
   "execution_count": 139,
   "id": "fa303c53",
   "metadata": {},
   "outputs": [],
   "source": [
    "df_comedy['댓글'].fillna('',inplace=True)\n",
    "df_fantasy['댓글'].fillna('',inplace=True)\n",
    "df_2010_15['댓글'].fillna('',inplace=True)"
   ]
  },
  {
   "cell_type": "code",
   "execution_count": 142,
   "id": "8ac21c43",
   "metadata": {},
   "outputs": [
    {
     "data": {
      "application/vnd.jupyter.widget-view+json": {
       "model_id": "ef25d58d35dc423f9c807f706d4c6598",
       "version_major": 2,
       "version_minor": 0
      },
      "text/plain": [
       "  0%|          | 0/50000 [00:00<?, ?it/s]"
      ]
     },
     "metadata": {},
     "output_type": "display_data"
    },
    {
     "name": "stderr",
     "output_type": "stream",
     "text": [
      "<ipython-input-142-0bb249a52958>:2: SettingWithCopyWarning: \n",
      "A value is trying to be set on a copy of a slice from a DataFrame\n",
      "\n",
      "See the caveats in the documentation: https://pandas.pydata.org/pandas-docs/stable/user_guide/indexing.html#returning-a-view-versus-a-copy\n",
      "  df_comedy['댓글'][i] = spacing(df_comedy['댓글'][i])\n",
      "<ipython-input-142-0bb249a52958>:3: SettingWithCopyWarning: \n",
      "A value is trying to be set on a copy of a slice from a DataFrame\n",
      "\n",
      "See the caveats in the documentation: https://pandas.pydata.org/pandas-docs/stable/user_guide/indexing.html#returning-a-view-versus-a-copy\n",
      "  df_fantasy['댓글'][i] = spacing(df_fantasy['댓글'][i])\n",
      "<ipython-input-142-0bb249a52958>:4: SettingWithCopyWarning: \n",
      "A value is trying to be set on a copy of a slice from a DataFrame\n",
      "\n",
      "See the caveats in the documentation: https://pandas.pydata.org/pandas-docs/stable/user_guide/indexing.html#returning-a-view-versus-a-copy\n",
      "  df_2010_15['댓글'][i] = spacing(df_2010_15['댓글'][i])\n"
     ]
    }
   ],
   "source": [
    "for i in trange(50000):\n",
    "    df_comedy['댓글'][i] = spacing(df_comedy['댓글'][i])\n",
    "    df_fantasy['댓글'][i] = spacing(df_fantasy['댓글'][i])\n",
    "    df_2010_15['댓글'][i] = spacing(df_2010_15['댓글'][i])"
   ]
  },
  {
   "cell_type": "code",
   "execution_count": 89,
   "id": "70ba8e4a",
   "metadata": {},
   "outputs": [
    {
     "data": {
      "text/plain": [
       "0                                       그나마 이게 젤 재밋 엇음\n",
       "1                                    진짜 재밌었는데 평점 왜 이러지\n",
       "2                                  시리즈 중에 2편이 그나마 나은 듯\n",
       "3           9년이 지나서 보게 되었는데 재밌네요 특히 탁 재훈의 재미를 배가 시켜주네요\n",
       "4                        나 사는 지역에 멀티플렉스 처음 생겼을 때 봤던 영화\n",
       "5    김원희 하나로 10점 임ㅋㅋㅋㅋ 찬 커피 달랑께 으미단거ㅋ 으미쓴 거ㅋ저것이 완전 ...\n",
       "6    점수 왜 이렇게 낮게 주냐 ㅋㅋㅋ 진짜 뻔한 대 웃기는 대 이 시절 땤ㅋㅋㅋㅋ 참 ...\n",
       "7                                     웃긴 건 시리즈 중 제일 낫다\n",
       "8    김원희가 참 매력 있네 나름 코미디 요소는 있었지만 이 영화는 어떻게 시리즈가 계속...\n",
       "9    10점 짜린 아니지만 7점 정도로 좀 더 평점이 높아도 될 것 같다 킬링타임용 역할...\n",
       "Name: 댓글, dtype: object"
      ]
     },
     "execution_count": 89,
     "metadata": {},
     "output_type": "execute_result"
    }
   ],
   "source": [
    "copy['댓글'][:10]"
   ]
  },
  {
   "cell_type": "code",
   "execution_count": 148,
   "id": "39b9c77d",
   "metadata": {},
   "outputs": [],
   "source": [
    "df_comedy['토큰단어'] = ''\n",
    "df_fantasy['토큰단어'] = ''\n",
    "df_2010_15['토큰단어'] = ''"
   ]
  },
  {
   "cell_type": "code",
   "execution_count": 149,
   "id": "92d4b8f2",
   "metadata": {},
   "outputs": [
    {
     "data": {
      "application/vnd.jupyter.widget-view+json": {
       "model_id": "6b637b505a454d9b94df55c88e24873a",
       "version_major": 2,
       "version_minor": 0
      },
      "text/plain": [
       "  0%|          | 0/50000 [00:00<?, ?it/s]"
      ]
     },
     "metadata": {},
     "output_type": "display_data"
    },
    {
     "name": "stderr",
     "output_type": "stream",
     "text": [
      "<ipython-input-149-8a09749d7e91>:2: SettingWithCopyWarning: \n",
      "A value is trying to be set on a copy of a slice from a DataFrame\n",
      "\n",
      "See the caveats in the documentation: https://pandas.pydata.org/pandas-docs/stable/user_guide/indexing.html#returning-a-view-versus-a-copy\n",
      "  df_comedy['토큰단어'][i] = okt.morphs(df_comedy['댓글'][i])\n",
      "<ipython-input-149-8a09749d7e91>:3: SettingWithCopyWarning: \n",
      "A value is trying to be set on a copy of a slice from a DataFrame\n",
      "\n",
      "See the caveats in the documentation: https://pandas.pydata.org/pandas-docs/stable/user_guide/indexing.html#returning-a-view-versus-a-copy\n",
      "  df_fantasy['토큰단어'][i] = okt.morphs(df_fantasy['댓글'][i])\n",
      "<ipython-input-149-8a09749d7e91>:4: SettingWithCopyWarning: \n",
      "A value is trying to be set on a copy of a slice from a DataFrame\n",
      "\n",
      "See the caveats in the documentation: https://pandas.pydata.org/pandas-docs/stable/user_guide/indexing.html#returning-a-view-versus-a-copy\n",
      "  df_2010_15['토큰단어'][i] = okt.morphs(df_2010_15['댓글'][i])\n"
     ]
    }
   ],
   "source": [
    "for i in trange(50000):\n",
    "    df_comedy['토큰단어'][i] = okt.morphs(df_comedy['댓글'][i])\n",
    "    df_fantasy['토큰단어'][i] = okt.morphs(df_fantasy['댓글'][i])\n",
    "    df_2010_15['토큰단어'][i] = okt.morphs(df_2010_15['댓글'][i])"
   ]
  },
  {
   "cell_type": "code",
   "execution_count": 154,
   "id": "a8443728",
   "metadata": {},
   "outputs": [],
   "source": [
    "df_2010_15.drop(['Unnamed: 0','Unnamed: 0.1'], axis=1, inplace=True)"
   ]
  },
  {
   "cell_type": "code",
   "execution_count": 189,
   "id": "ff997650",
   "metadata": {},
   "outputs": [],
   "source": [
    "stop_word = ['지', '임', '게', '하', '고', '을', '인', '듯', '의', '가', '이',\n",
    "             '영화','은', '들', '는', '좀', '잘', '걍', '과', '와', '도', '를',\n",
    "             '으로', '나','자', '에', '와', '네', '한', '하다', '았', '앗', '엇',\n",
    "             '주', '되', '다', '따', '영','이', '걸', '만','즐','엔', '임', '후',\n",
    "             '왠', '만','할','로','펌','무','적','원','치', '류','옆','타','함','구',\n",
    "             '호','수','못','랑','요','씨','보고','대','됨','번','테','력','박','습',\n",
    "             '라','데','옴','오','기','줌','않','함','그','거']"
   ]
  },
  {
   "cell_type": "code",
   "execution_count": 190,
   "id": "9c33a703",
   "metadata": {},
   "outputs": [
    {
     "data": {
      "application/vnd.jupyter.widget-view+json": {
       "model_id": "e81288af8c7349959e11c3392e7a083d",
       "version_major": 2,
       "version_minor": 0
      },
      "text/plain": [
       "  0%|          | 0/50000 [00:00<?, ?it/s]"
      ]
     },
     "metadata": {},
     "output_type": "display_data"
    }
   ],
   "source": [
    "for i in trange(50000):\n",
    "    for num, w in enumerate(df_comedy['토큰단어'][i]):\n",
    "        if w in stop_word:\n",
    "            del df_comedy['토큰단어'][i][num]\n",
    "    for num, w in enumerate(df_fantasy['토큰단어'][i]):\n",
    "        if w in stop_word:\n",
    "            del df_fantasy['토큰단어'][i][num]\n",
    "    for num, w in enumerate(df_2010_15['토큰단어'][i]):\n",
    "        if w in stop_word:\n",
    "            del df_2010_15['토큰단어'][i][num]\n",
    "    "
   ]
  },
  {
   "cell_type": "code",
   "execution_count": null,
   "id": "683286b8",
   "metadata": {},
   "outputs": [],
   "source": [
    "pd.DataFrame()"
   ]
  }
 ],
 "metadata": {
  "kernelspec": {
   "display_name": "Python 3",
   "language": "python",
   "name": "python3"
  },
  "language_info": {
   "codemirror_mode": {
    "name": "ipython",
    "version": 3
   },
   "file_extension": ".py",
   "mimetype": "text/x-python",
   "name": "python",
   "nbconvert_exporter": "python",
   "pygments_lexer": "ipython3",
   "version": "3.8.8"
  },
  "toc": {
   "base_numbering": 1,
   "nav_menu": {},
   "number_sections": false,
   "sideBar": true,
   "skip_h1_title": false,
   "title_cell": "Table of Contents",
   "title_sidebar": "Contents",
   "toc_cell": false,
   "toc_position": {},
   "toc_section_display": true,
   "toc_window_display": false
  }
 },
 "nbformat": 4,
 "nbformat_minor": 5
}
